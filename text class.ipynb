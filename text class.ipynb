{
 "cells": [
  {
   "cell_type": "markdown",
   "metadata": {},
   "source": [
    "# TEXT CLASS"
   ]
  },
  {
   "cell_type": "code",
   "execution_count": 29,
   "metadata": {},
   "outputs": [],
   "source": [
    "# IMPORTING LIBRARIES\n",
    "import nltk\n",
    "import random\n",
    "from nltk.corpus import movie_reviews"
   ]
  },
  {
   "cell_type": "code",
   "execution_count": 30,
   "metadata": {},
   "outputs": [],
   "source": [
    "documents = [(list(movie_reviews.words(fileid)),category) for category in movie_reviews.categories() for fileid in movie_reviews.fileids(category)]"
   ]
  },
  {
   "cell_type": "code",
   "execution_count": 31,
   "metadata": {},
   "outputs": [],
   "source": [
    "random.shuffle(documents)"
   ]
  },
  {
   "cell_type": "code",
   "execution_count": 32,
   "metadata": {},
   "outputs": [
    {
     "output_type": "stream",
     "name": "stdout",
     "text": "['plot', ':', 'two', 'teen', 'couples', 'go', 'to', 'a', 'church', 'party']\nNumber of total words: 1583820\n"
    }
   ],
   "source": [
    "words = [word.lower() for word in movie_reviews.words()]\n",
    "print(words[:10])\n",
    "print(\"Number of total words:\",len(words))"
   ]
  },
  {
   "cell_type": "code",
   "execution_count": 33,
   "metadata": {
    "tags": [
     "outputPrepend"
    ]
   },
   "outputs": [
    {
     "output_type": "execute_result",
     "data": {
      "text/plain": "FreqDist({',': 77717, 'the': 76529, '.': 65876, 'a': 38106, 'and': 35576, 'of': 34123, 'to': 31937, \"'\": 30585, 'is': 25195, 'in': 21822, ...})"
     },
     "metadata": {},
     "execution_count": 33
    }
   ],
   "source": [
    "# GETTING THE DICTIONARY HAVING ALL THE WORDS WITH THEIR FREQUENCIES\n",
    "dictWords = nltk.FreqDist(words)\n",
    "dictWords\n"
   ]
  },
  {
   "cell_type": "code",
   "execution_count": 34,
   "metadata": {},
   "outputs": [
    {
     "output_type": "stream",
     "name": "stdout",
     "text": "No of distinct words in this text including all punctuations are: 39768\n"
    }
   ],
   "source": [
    "print(\"No of distinct words in this text including all punctuations are:\",len(dictWords))"
   ]
  },
  {
   "cell_type": "code",
   "execution_count": 35,
   "metadata": {},
   "outputs": [
    {
     "output_type": "stream",
     "name": "stdout",
     "text": "No of times 'good' occured: 2411\nNo of times 'boring' occured: 270\nNo of times 'bad' occured: 1395\n"
    }
   ],
   "source": [
    "# TO FIND THE NUMBER OF OCCURENCES OF A PARTICULAR WORD IN THE TEXT \n",
    "print(\"No of times 'good' occured:\",dictWords[\"good\"])\n",
    "print(\"No of times 'boring' occured:\",dictWords[\"boring\"])\n",
    "print(\"No of times 'bad' occured:\",dictWords[\"bad\"])"
   ]
  }
 ],
 "metadata": {
  "language_info": {
   "codemirror_mode": {
    "name": "ipython",
    "version": 3
   },
   "file_extension": ".py",
   "mimetype": "text/x-python",
   "name": "python",
   "nbconvert_exporter": "python",
   "pygments_lexer": "ipython3",
   "version": "3.6.4-final"
  },
  "orig_nbformat": 2,
  "kernelspec": {
   "name": "python36464bit045738b45aaa495e91227eedbb7f3e8f",
   "display_name": "Python 3.6.4 64-bit"
  }
 },
 "nbformat": 4,
 "nbformat_minor": 2
}