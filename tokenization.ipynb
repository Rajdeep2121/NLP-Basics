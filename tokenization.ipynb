{
 "cells": [
  {
   "cell_type": "markdown",
   "metadata": {},
   "source": [
    "# TOKENIZATION"
   ]
  },
  {
   "cell_type": "code",
   "execution_count": 19,
   "metadata": {},
   "outputs": [],
   "source": [
    "# IMPORTING LIBRARIES\n",
    "from nltk.tokenize import word_tokenize,sent_tokenize\n",
    "from nltk.tokenize import WordPunctTokenizer\n",
    "from nltk.tokenize import RegexpTokenizer"
   ]
  },
  {
   "cell_type": "code",
   "execution_count": 20,
   "metadata": {},
   "outputs": [],
   "source": [
    "# DEFINING SAMPLE TEXTS\n",
    "text1 =  \"Hello World.This is the first tokenizing example\"\n",
    "text2 = \"Hey it's me. Check this out.\""
   ]
  },
  {
   "cell_type": "code",
   "execution_count": 21,
   "metadata": {},
   "outputs": [],
   "source": [
    "# SENTENCE TOKENIZING\n",
    "sentences1 = sent_tokenize(text1)\n",
    "sentences2 = sent_tokenize(text2)"
   ]
  },
  {
   "cell_type": "code",
   "execution_count": 22,
   "metadata": {},
   "outputs": [
    {
     "output_type": "stream",
     "name": "stdout",
     "text": "['Hello World.This is the first tokenizing example'] \n [\"Hey it's me.\", 'Check this out.']\n"
    }
   ],
   "source": [
    "print(sentences1,\"\\n\",sentences2)"
   ]
  },
  {
   "cell_type": "code",
   "execution_count": 23,
   "metadata": {},
   "outputs": [
    {
     "output_type": "stream",
     "name": "stdout",
     "text": "For Text 1: ['Hello', 'World.This', 'is', 'the', 'first', 'tokenizing', 'example'] \nFor Text 2: ['Hey', \"it's\", 'me.', 'Check', 'this', 'out.']\n"
    }
   ],
   "source": [
    "# WORD TOKENIZING (TOKENIZING THE TEXTS SEPARATED BY SPACES) \n",
    "tokenizer = RegexpTokenizer('\\s+',gaps=True)\n",
    "print(\"For Text 1:\",tokenizer.tokenize(text1),\"\\nFor Text 2:\",tokenizer.tokenize(text2))\n"
   ]
  },
  {
   "cell_type": "markdown",
   "metadata": {},
   "source": [
    "# TRYING A LARGE DATASET"
   ]
  },
  {
   "cell_type": "code",
   "execution_count": 24,
   "metadata": {
    "tags": [
     "outputPrepend"
    ]
   },
   "outputs": [],
   "source": [
    "f = open(\"sample_text.txt\",\"r\")\n",
    "x = f.read()\n"
   ]
  },
  {
   "cell_type": "code",
   "execution_count": 25,
   "metadata": {
    "tags": [
     "outputPrepend"
    ]
   },
   "outputs": [
    {
     "output_type": "stream",
     "name": "stdout",
     "text": "tle', 'action', 'is', 'a', 'bumpy', 'one', 'for', 'the', 'black', 'regiment', '.', 'the', 'soldiers', 'suffer', 'innumerable', 'hardships', ',', 'but', 'somehow', 'they', 'never', 'lose', 'their', 'morale', '.', 'the', 'army', 'treats', 'the', 'black', 'soldiers', 'like', 'second', 'class', 'citizens', ',', 'subjecting', 'them', 'to', 'racism', 'and', 'discrimination', '.', 'they', 'are', 'paid', 'only', '$', '10', 'a', 'month', ',', 'whereas', 'their', 'white', 'counterparts', 'earn', 'thirteen', ',', 'and', ',', 'for', 'a', 'long', 'time', ',', 'they', 'have', 'to', 'go', 'without', 'shoes', ',', 'guns', ',', 'or', 'uniforms', '.', 'to', 'make', 'matters', 'worse', ',', 'the', 'white', 'military', 'hierarchy', 'is', 'extremely', 'reluctant', 'to', 'allow', 'the', 'blacks', 'into', 'action', ',', 'preferring', 'instead', 'to', 'use', 'them', 'for', 'manual', 'labor', '.', 'eventually', ',', 'however', ',', 'the', 'regiment', 'receives', 'its', 'boots', ',', 'uniforms', ',', 'rifles', ',', 'and', 'right', 'to', 'fight', ',', 'thanks', 'to', 'the', 'stubborn', 'resolve', 'of', 'colonel', 'shaw', '.', 'shaw', 'has', 'absolute', 'faith', 'in', 'his', 'soldiers', ',', 'and', 'he', 'fights', 'tooth', 'and', 'nail', 'to', 'get', 'them', 'what', 'they', 'deserve', ',', 'even', 'if', 'it', 'means', 'threatening', 'a', 'general', 'with', 'blackmail', '.', 'broderick', ',', 'in', 'fact', ',', 'is', 'most', 'convincing', 'in', 'the', 'scenes', 'where', 'shaw', 'stands', 'up', 'for', 'the', 'regiment', '.', 'unfortunately', ',', 'however', ',', 'broderick', \"'\", 's', 'uneven', 'performance', 'is', ',', 'in', 'many', 'respects', ',', 'the', 'weak', 'link', 'in', 'the', 'movie', '.', 'in', 'an', 'effort', 'to', 'look', 'more', 'mature', ',', 'broderick', 'sports', 'a', 'mustache', 'and', 'a', 'goatee', ',', 'and', 'throughout', 'the', 'film', 'he', 'slips', 'in', 'and', 'out', 'of', 'a', 'phony', 'boston', 'accent', '.', 'he', 'is', 'never', 'altogether', 'convincing', 'as', 'shaw', 'since', 'much', 'of', 'the', 'time', 'his', 'emotions', 'seem', 'forced', '.', 'the', 'film', 'places', 'too', 'much', 'weight', 'on', 'broderick', \"'\", 's', 'character', 'and', 'not', 'enough', 'on', 'the', 'black', 'soldiers', ',', 'who', 'are', 'more', 'intriguing', '.', 'glory', 'regains', 'lost', 'ground', 'with', 'its', 'harrowing', 'depiction', 'of', 'war', '.', 'the', 'movie', 'shows', 'the', 'devastation', 'of', 'war', 'without', 'resorting', 'to', 'the', 'unnecessarily', 'graphic', 'gore', 'which', 'marred', 'born', 'on', 'the', 'fourth', 'of', 'july', '.', 'glory', 'does', 'not', 'try', 'to', 'rattle', 'you', 'with', 'nauseating', 'blood', 'and', 'guts', '.', 'except', 'for', 'a', 'few', 'bullet', 'wounds', 'and', 'one', 'exploding', 'head', ',', 'the', 'film', ',', 'for', 'the', 'most', 'part', ',', 'leaves', 'the', 'gore', 'to', 'your', 'imagination', ',', 'which', 'is', 'not', 'to', 'say', 'that', 'the', 'battle', 'scenes', 'in', 'glory', 'are', 'timid', '.', 'to', 'the', 'contrary', ',', 'they', 'are', 'chaotic', 'and', 'horrifying', ';', 'it', \"'\", 's', 'just', 'that', 'director', 'edward', 'zwick', '(', 'the', 'co', '-', 'creator', 'of', '\"', 'thirtysomething', '\"', ')', 'films', 'them', 'with', 'far', 'more', 'subtlety', 'and', 'restraint', 'than', 'oliver', 'stone', 'could', 'ever', 'muster', '.', 'the', 'key', 'to', 'glory', 'is', 'the', 'group', 'dynamic', 'among', 'the', 'black', 'soldiers', '.', 'the', 'movie', 'depicts', 'some', 'of', '(', 'but', 'not', 'enough', 'of', ')', 'their', 'customs', 'and', 'rituals', '.', 'in', 'one', 'scene', ',', 'for', 'example', ',', 'the', 'soldiers', 'motivate', 'themselves', 'by', 'singing', 'prayers', 'around', 'the', 'campfire', '.', 'each', 'man', 'has', 'a', 'chance', 'to', 'relay', 'a', 'few', 'words', 'of', 'inspiration', '.', 'a', 'couple', 'of', 'the', 'movie', \"'\", 's', 'most', 'touching', 'moments', 'involve', 'young', 'black', 'children', 'looking', 'up', 'to', 'the', 'black', 'soldiers', 'with', 'awe', ',', 'disbelief', 'and', 'pride', '.', 'the', 'regiment', \"'\", 's', 'greatest', 'triumph', 'comes', 'when', 'the', 'soldiers', 'distinguish', 'themselves', 'in', 'battle', ',', 'thereby', 'earning', 'the', 'respect', 'of', 'their', 'white', 'peers', 'and', 'earning', 'the', 'honor', 'of', 'leading', 'the', 'climactic', 'assault', 'on', 'fort', 'wagner', '.', 'like', 'any', 'war', 'film', ',', 'glory', 'has', 'its', 'share', 'of', 'gloom', 'and', 'despair', ',', 'but', 'ultimately', 'it', 'proves', 'to', 'be', 'a', 'truly', 'uplifting', 'experience', 'and', 'an', 'important', 'history', 'lesson', ',', 'a', 'valuable', 'reminder', 'that', 'despite', 'what', 'the', 'history', 'books', 'say', '(', 'or', ',', 'more', 'precisely', ',', 'what', 'they', 'do', 'not', 'say', ')', ',', 'blacks', 'played', 'a', 'critically', 'important', 'role', 'in', 'the', 'north', \"'\", 's', 'victory', 'over', 'the', 'south', '--', 'forever', 'changing', 'the', 'evolution', 'of', 'america', '.', 'steven', 'spielberg', \"'\", 's', 'second', 'epic', 'film', 'on', 'world', 'war', 'ii', 'is', 'an', 'unquestioned', 'masterpiece', 'of', 'film', '.', 'spielberg', ',', 'ever', 'the', 'student', 'on', 'film', ',', 'has', 'managed', 'to', 'resurrect', 'the', 'war', 'genre', 'by', 'producing', 'one', 'of', 'its', 'grittiest', ',', 'and', 'most', 'powerful', 'entries', '.', 'he', 'also', 'managed', 'to', 'cast', 'this', 'era', \"'\", 's', 'greatest', 'answer', 'to', 'jimmy', 'stewart', ',', 'tom', 'hanks', ',', 'who', 'delivers', 'a', 'performance', 'that', 'is', 'nothing', 'short', 'of', 'an', 'astonishing', 'miracle', '.', 'for', 'about', '160', 'out', 'of', 'its', '170', 'minutes', ',', '\"', 'saving', 'private', 'ryan', '\"', 'is', 'flawless', '.', 'literally', '.', 'the', 'plot', 'is', 'simple', 'enough', '.', 'after', 'the', 'epic', 'd', '-', 'day', 'invasion', '(', 'whose', 'sequences', 'are', 'nothing', 'short', 'of', 'spectacular', ')', ',', 'capt', '.', 'john', 'miller', '(', 'hanks', ')', 'and', 'his', 'team', 'are', 'forced', 'to', 'search', 'for', 'a', 'pvt', '.', 'james', 'ryan', '(', 'damon', ')', ',', 'whose', 'brothers', 'have', 'all', 'died', 'in', 'battle', '.', 'once', 'they', 'find', 'him', ',', 'they', 'are', 'to', 'bring', 'him', 'back', 'for', 'immediate', 'discharge', 'so', 'that', 'he', 'can', 'go', 'home', '.', 'accompanying', 'miller', 'are', 'his', 'crew', ',', 'played', 'with', 'astonishing', 'perfection', 'by', 'a', 'group', 'of', 'character', 'actors', 'that', 'are', 'simply', 'sensational', '.', 'barry', 'pepper', ',', 'adam', 'goldberg', ',', 'vin', 'diesel', ',', 'giovanni', 'ribisi', ',', 'davies', ',', 'and', 'burns', 'are', 'the', 'team', 'sent', 'to', 'find', 'one', 'man', ',', 'and', 'bring', 'him', 'home', '.', 'the', 'battle', 'sequences', 'that', 'bookend', 'the', 'film', 'are', 'extraordinary', '.', 'literally', '.', 'there', 'is', 'nothing', 'in', 'film', 'that', 'has', 'ever', 'been', 'recorded', 'that', 'will', 'prepare', 'you', 'for', 'the', 'sheer', 'onslaught', 'of', 'terrorizing', 'violence', 'in', 'the', 'film', \"'\", 's', 'first', '20', 'minutes', '.', 'spielberg', 'films', 'almost', 'the', 'entire', 'movie', 'without', 'music', ',', 'leaving', 'it', 'up', 'to', 'the', 'characters', 'to', 'generate', 'emotion', ',', 'and', 'they', 'do', 'to', 'perfection', '.', 'the', 'sequences', 'in', 'france', ',', 'all', 'of', 'them', ',', 'beginning', 'with', 'the', 'battle', 'and', 'ending', 'with', 'the', 'battle', ',', 'are', 'fabulous', ',', 'especially', 'the', 'dialogues', 'between', 'the', 'men', 'as', 'they', 'walk', 'through', 'the', 'hills', 'and', 'countrysides', ',', 'trying', 'to', 'save', 'private', 'ryan', '.', 'there', 'are', 'no', 'words', 'i', 'can', 'use', 'to', 'describe', 'the', 'true', 'horror', 'and', 'power', 'of', 'these', 'sequences', '.', 'this', 'is', 'what', 'coppola', 'was', 'looking', 'for', 'in', '\"', 'apocalypse', 'now', '\"', ',', 'but', 'couldn', \"'\", 't', 'create', '.', 'the', 'sheer', 'horror', 'of', 'these', 'sequences', 'all', 'but', 'condemn', 'war', '.', 'the', 'performance', 'by', 'hanks', 'as', 'the', 'leader', 'of', 'this', 'gang', 'is', 'also', 'extraordinary', '.', 'he', 'is', 'head', 'and', 'shoulders', 'above', 'of', 'the', 'rest', 'of', 'the', 'actors', 'in', 'the', 'world', ',', 'with', 'his', 'comic', 'timing', ',', 'dramatic', 'flair', ',', 'his', 'quiet', 'emotion', 'that', 'stirs', 'an', 'entire', 'nation', 'to', 'tears', '.', 'hanks', 'is', 'this', 'country', \"'\", 's', 'finest', 'actor', ',', 'and', 'he', 'proves', 'it', 'here', '.', 'however', ',', 'spielberg', 'almost', 'destroys', 'his', 'own', 'masterpiece', '.', 'with', 'a', 'chance', 'to', 'make', 'it', 'the', 'one', 'of', 'the', 'greatest', 'films', 'of', 'all', 'time', ',', 'spielberg', 'creates', '10', 'minutes', 'of', 'purely', 'worthless', 'film', '.', 'the', 'sequence', 'involving', 'army', 'chief', '-', 'of', '-', 'stafff', 'george', 'marshall', 'and', 'mrs', '.', 'ryan', 'is', 'decent', ',', 'but', 'doesn', \"'\", 't', 'hold', 'up', 'to', 'the', 'rest', 'of', 'the', 'film', ',', 'relying', 'on', 'wartime', 'cliches', 'to', 'power', 'it', '.', 'but', 'that', 'is', 'forgivable', '.', 'what', 'isn', \"'\", 't', 'is', 'the', 'bookends', 'of', 'the', 'film', ',', 'the', 'cemetary', 'sequences', '.', 'the', 'first', 'one', 'is', 'quite', 'good', ',', 'a', 'decent', 'introduction', 'into', 'the', 'lives', 'of', 'these', 'men', '.', 'the', 'last', 'sequence', 'is', 'atrocious', '.', 'the', 'forced', 'emotion', ',', 'accompanied', 'by', 'a', 'ridiculous', 'piece', 'of', 'music', ',', 'is', 'simply', 'horrible', 'compared', 'to', 'the', 'rest', 'of', 'the', 'magical', 'film', '.', 'these', 'flaws', 'are', 'what', 'downgrade', '\"', 'ryan', '\"', 'from', 'the', 'greatest', 'film', 'of', 'our', 'era', ',', 'to', 'the', 'greatest', 'war', 'film', 'of', 'our', 'era', '.', 'spielberg', 'should', 'have', 'trusted', 'his', 'own', 'material', ',', 'and', 'he', 'should', 'have', 'trusted', 'hanks', 'to', 'deliver', 'the', 'most', 'chilling', 'line', 'of', 'the', 'movie', ',', 'to', 'end', 'his', 'masterpiece', 'right', 'there', '.', 'the', 'use', 'of', 'the', 'flag', ',', 'though', 'patriotic', ',', 'is', 'in', 'contrast', 'to', 'the', 'movie', \"'\", 's', 'theme', '.', 'the', 'power', 'of', 'the', 'bulk', 'of', 'the', 'film', ',', 'however', ',', 'is', 'astonishing', '.', 'spielberg', 'has', 'truly', 'made', 'a', 'wondrous', 'work', 'of', 'art', ',', 'that', 'persists', 'even', 'after', 'first', 'viewing', 'of', 'the', 'film', ',', 'is', 'extraordinary', '.', 'this', 'is', 'the', 'film', 'of', 'the', 'year', '.', 'truman', '(', '\"', 'true', '-', 'man', '\"', ')', 'burbank', 'is', 'the', 'perfect', 'name', 'for', 'jim', 'carrey', \"'\", 's', 'character', 'in', 'this', 'film', '.', 'president', 'truman', 'was', 'an', 'unassuming', 'man', 'who', 'became', 'known', 'worldwide', ',', 'in', 'spite', 'of', '(', 'or', 'was', 'it', 'because', 'of', ')', 'his', 'stature', '.', '\"', 'truman', '\"', 'also', 'recalls', 'an', 'era', 'of', 'plenty', 'following', 'a', 'grim', 'war', ',', 'an', 'era', 'when', 'planned', 'communities', 'built', 'by', 'government', 'scientists', 'promised', 'an', 'idyllic', 'life', 'for', 'americans', '.', 'and', 'burbank', ',', 'california', ',', 'brings', 'to', 'mind', 'the', 'tonight', 'show', 'and', 'the', 'home', 'of', 'nbc', '.', 'if', 'hollywood', 'is', 'the', 'center', 'of', 'the', 'film', 'world', ',', 'burbank', 'is', ',', 'or', 'was', ',', 'the', 'center', 'of', 'tv', \"'\", 's', 'world', ',', 'the', 'world', 'where', 'our', 'protagonist', 'lives', '.', 'combine', 'all', 'these', 'names', 'and', 'concepts', 'into', '\"', 'truman', 'burbank', ',', '\"', 'and', 'you', 'get', 'something', 'that', 'well', 'describes', 'him', 'and', 'his', 'artificial', 'world', '.', 'truman', 'leads', 'the', 'perfect', 'life', '.', 'his', 'town', ',', 'his', 'car', ',', 'and', 'his', 'wife', 'are', 'picture', 'perfect', '.', 'his', 'idea', 'of', 'reality', 'comes', 'under', 'attack', 'one', 'day', 'when', 'a', 'studio', 'light', 'falls', 'from', 'the', 'sky', '.', 'the', 'radio', 'explains', 'that', 'an', 'overflying', 'airplane', 'started', 'coming', 'apart', '.', '.', '.', 'but', 'then', 'why', 'would', 'an', 'airplane', 'be', 'carrying', 'a', 'studio', 'light', '?', 'the', 'next', 'day', 'during', 'the', 'drive', 'to', 'work', ',', 'the', 'radio', 'jams', 'and', 'he', 'starts', 'picking', 'up', 'a', 'voice', 'that', 'exactly', 'describes', 'his', 'movements', '.', 'he', 'is', 'so', 'distracted', 'that', 'he', 'nearly', 'hits', 'a', 'pedestrian', '.', 'when', 'the', 'radio', 'comes', 'back', 'to', 'normal', ',', 'the', 'announcer', 'warns', 'listeners', 'to', 'drive', 'carefully', '.', 'his', 'suspicion', 'aroused', ',', 'he', 'wanders', 'around', 'the', 'town', 'square', 'looking', 'for', 'other', 'oddities', '.', 'the', 'world', 'appears', 'to', 'be', 'functioning', 'properly', 'until', 'he', 'enters', 'an', 'office', 'building', 'and', 'tries', 'to', 'take', 'the', 'elevator', '.', 'the', 'elevator', 'doors', 'open', 'up', 'on', 'a', 'small', 'lounge', 'with', 'people', 'on', 'coffee', 'breaks', '.', 'a', 'grip', 'sees', 'truman', 'him', 'and', 'quickly', 'moves', 'a', 'paneled', 'door', ',', 'made', 'to', 'look', 'like', 'the', 'back', 'of', 'an', 'elevator', ',', 'into', 'place', '.', 'two', 'security', 'guards', 'grab', 'him', 'and', 'throw', 'him', 'out', '.', 'truman', 'is', 'really', 'suspicious', 'now', '.', 'it', 'gets', 'even', 'worse', 'the', 'next', 'day', 'when', 'his', 'wife', ',', 'a', 'nurse', ',', 'describes', 'an', 'elevator', 'accident', 'in', 'the', 'building', 'where', 'he', 'saw', 'the', 'lounge', '.', '\"', 'it', \"'\", 's', 'best', 'not', 'to', 'think', 'about', 'it', ',', '\"', 'she', 'says', ',', 'trying', 'vainly', 'to', 'change', 'truman', \"'\", 's', 'memory', '.', 'truman', 'becomes', 'determined', 'to', 'see', 'who', 'or', 'what', 'is', 'behind', 'this', 'apparently', 'elaborate', 'hoax', 'at', 'his', 'expense', '.', 'at', 'every', 'turn', 'he', 'is', 'stopped', 'by', 'an', 'amazing', 'coincidence', 'that', 'just', 'happens', 'to', 'keep', 'him', 'in', 'his', 'own', 'little', 'town', '.', 'his', 'last', 'hope', 'is', 'to', 'quell', 'his', 'fear', 'of', 'the', 'ocean', 'and', 'sail', 'to', 'the', 'edge', 'of', 'the', 'world', '.', 'you', 'know', 'by', 'now', 'that', 'truman', \"'\", 's', 'life', 'is', 'the', 'subject', 'of', 'a', 'television', 'program', '.', 'his', 'actions', 'are', '\"', 'real', '\"', 'but', 'everything', 'else', 'is', 'carefully', 'scripted', ',', 'from', 'the', 'death', 'of', 'his', 'father', 'to', 'the', 'choice', 'of', 'his', 'wife', '.', 'truman', 'is', 'determined', 'to', 'find', 'out', 'what', 'the', 'big', 'hoax', 'is', '.', 'meanwhile', ',', 'christof', ',', 'the', 'all', '-', 'seeing', 'creator', 'of', 'truman', \"'\", 's', 'world', 'does', 'his', 'best', 'to', 'keep', 'him', 'unaware', 'and', 'happy', '.', 'it', \"'\", 's', 'sort', 'of', 'like', 'westworld', 'told', 'from', 'the', 'robots', \"'\", 'point', 'of', 'view', ',', 'or', 'jurassic', 'park', 'from', 'the', 'dinosaurs', \"'\", 'point', 'of', 'view', '.', 'we', 'root', 'for', 'the', 'captive', 'of', 'the', 'cage', '-', 'world', '.', 'our', 'protagonist', 'is', 'counting', 'on', '\"', 'chaos', 'theory', '\"', 'to', 'help', 'him', 'escape', 'his', 'elaborate', 'trap', '.', 'the', 'story', ',', 'written', 'by', 'andrew', 'niccol', '(', 'writer', '/', 'director', 'of', 'gattaca', ')', ',', 'introduces', 'some', 'interesting', 'questions', ',', 'such', 'as', 'the', 'ethics', 'of', 'subjecting', 'a', 'person', 'to', 'this', 'type', 'of', 'life', ',', 'or', 'the', 'psychological', 'impact', 'of', 'learning', 'that', 'your', 'entire', 'life', 'has', 'all', 'been', 'fake', '.', 'although', 'these', 'questions', 'came', 'to', 'mind', ',', 'i', 'don', \"'\", 't', 'think', 'the', 'film', 'itself', 'asked', 'them', '.', 'it', 'certainly', 'didn', \"'\", 't', 'address', 'them', 'or', 'try', 'to', 'answer', 'them', '.', 'i', 'was', 'particularly', 'disappointed', 'that', 'the', 'film', 'didn', \"'\", 't', 'deal', 'more', 'with', 'the', 'trauma', 'of', 'learning', 'one', \"'\", 's', 'life', 'is', 'a', 'tv', 'show', '.', 'carrey', \"'\", 's', 'performance', 'at', 'the', 'end', 'showed', 'a', 'smidgen', 'of', 'truman', \"'\", 's', 'pain', ',', 'but', 'i', 'almost', 'felt', 'that', 'he', 'got', 'over', 'it', 'too', 'easily', 'for', 'the', 'sake', 'of', 'the', 'film', \"'\", 's', 'pacing', '.', 'earlier', 'in', 'the', 'movie', 'i', 'found', 'myself', 'wondering', 'if', 'it', 'would', 'be', 'better', 'for', 'truman', 'to', 'find', 'out', 'the', 'truth', 'or', 'whether', 'i', 'should', 'root', 'for', 'him', 'to', 'be', 'well', '.', 'the', 'two', 'seemed', 'exclusive', 'of', 'one', 'another', ',', 'but', 'weir', 'and', 'niccol', 'didn', \"'\", 't', 'see', 'it', 'that', 'way', '.', 'perhaps', 'it', \"'\", 's', 'not', 'fair', 'to', 'criticize', 'a', 'movie', 'for', 'what', 'it', 'isn', \"'\", 't', ',', 'but', 'it', 'seems', 'like', 'there', 'were', 'some', 'missed', 'opportunities', 'here', '.', 'but', 'on', 'its', 'own', 'terms', ',', 'the', 'movie', 'is', 'well', 'made', '.', 'sight', ',', 'sound', 'and', 'pacing', 'are', 'all', 'handled', 'competently', '.', 'much', 'of', 'the', 'first', 'part', 'of', 'the', 'movie', 'is', 'the', 'truman', 'show', '.', 'the', 'scenes', 'are', 'all', 'apparently', 'shot', 'from', 'hidden', 'cameras', ',', 'with', 'snoots', 'and', 'obstructions', 'covering', 'the', 'corners', 'of', 'the', 'screen', '.', 'one', 'hidden', 'camera', 'is', 'apparently', 'in', 'his', 'car', 'radio', ',', 'the', 'green', 'led', 'numbers', 'obscuring', 'the', 'lower', 'part', 'of', 'the', 'screen', '.', 'the', 'music', 'is', 'well', '-', 'chosen', 'and', 'scored', '.', 'the', 'film', 'opens', 'with', 'what', 'sounds', 'like', 'family', 'drama', 'theme', 'music', ',', 'when', 'truman', \"'\", 's', 'world', 'is', 'still', 'beautiful', 'and', 'perfect', '.', 'when', 'the', 'movie', 'ends', ',', 'the', 'score', 'sounds', 'more', 'like', 'a', 'frantic', ',', 'driven', ',', 'tangerine', 'dream', 'opus', ',', 'while', 'still', 'keeping', 'the', 'same', 'timbre', '.', 'philip', 'glass', \"'\", 'epic', 'music', '(', 'from', 'powaqqatsi', ')', 'permeates', 'truman', \"'\", 's', 'scenes', 'of', 'suspicion', 'and', 'awakening', '.', '(', 'glass', 'has', 'a', 'small', 'cameo', 'as', 'a', 'keyboardist', 'for', 'the', 'show', '.', ')', 'and', 'the', 'pacing', 'of', 'the', 'story', 'was', 'brisk', '.', 'there', 'was', 'no', 'unnecessarily', 'long', 'setup', 'explaining', 'the', 'concept', 'behind', 'the', 'truman', 'show', ',', 'just', 'a', 'few', 'quick', 'title', 'cards', ',', 'a', 'few', 'interviews', ',', 'and', 'then', 'right', 'into', 'the', 'show', ',', 'and', 'the', 'movie', '.', 'one', 'of', 'the', 'first', 'scenes', 'is', 'of', 'the', 'studio', 'light', 'falling', ';', 'there', 'was', 'no', 'token', 'scene', 'of', 'truman', \"'\", 's', 'idyllic', 'life', 'before', 'it', 'falls', 'apart', ',', 'because', 'it', 'wasn', \"'\", 't', 'necessary', ',', 'we', 'pick', 'up', 'the', 'story', 'at', 'the', 'first', 'sign', 'of', 'trouble', ',', 'and', 'no', 'sooner', '.', 'there', \"'\", 's', 'also', 'no', 'point', 'in', 'the', 'movie', 'where', 'the', 'plot', 'slows', 'down', '.', 'it', \"'\", 's', 'a', 'quick', ',', 'straight', 'shot', 'to', 'the', 'movie', \"'\", 's', 'end', '.', 'in', 'terms', 'of', 'overall', 'quality', ',', 'i', 'would', 'compare', 'the', 'truman', 'show', 'to', 'niccol', \"'\", 's', 'gattaca', '.', 'both', 'films', 'are', 'well', 'made', 'with', 'interesting', 'stories', 'set', 'in', 'interesting', 'worlds', '.', 'but', 'neither', 'film', 'really', 'felt', 'like', 'it', 'capitalized', 'on', 'all', 'the', 'great', 'ideas', ';', 'neither', 'film', '\"', 'clicked', '\"', 'and', 'became', 'an', 'instant', 'classic', '.', 'nevertheless', ',', 'i', 'look', 'forward', 'to', 'niccol', \"'\", 's', 'next', 'film', ',', 'whatever', 'it', 'may', 'be', '.']\n"
    }
   ],
   "source": [
    "print(tokenizer.tokenize(x))"
   ]
  },
  {
   "cell_type": "code",
   "execution_count": 26,
   "metadata": {},
   "outputs": [],
   "source": [
    "f.close()"
   ]
  }
 ],
 "metadata": {
  "language_info": {
   "codemirror_mode": {
    "name": "ipython",
    "version": 3
   },
   "file_extension": ".py",
   "mimetype": "text/x-python",
   "name": "python",
   "nbconvert_exporter": "python",
   "pygments_lexer": "ipython3",
   "version": "3.6.4-final"
  },
  "orig_nbformat": 2,
  "kernelspec": {
   "name": "python36464bit045738b45aaa495e91227eedbb7f3e8f",
   "display_name": "Python 3.6.4 64-bit"
  }
 },
 "nbformat": 4,
 "nbformat_minor": 2
}